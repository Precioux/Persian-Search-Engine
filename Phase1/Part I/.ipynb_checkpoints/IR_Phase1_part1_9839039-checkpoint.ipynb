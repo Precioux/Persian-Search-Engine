{
 "cells": [
  {
   "cell_type": "markdown",
   "metadata": {},
   "source": [
    "# Preprocessing Documents\n",
    "\n"
   ]
  },
  {
   "cell_type": "markdown",
   "metadata": {},
   "source": [
    "### Loading Data"
   ]
  },
  {
   "cell_type": "code",
   "execution_count": 1,
   "metadata": {},
   "outputs": [
    {
     "name": "stdout",
     "output_type": "stream",
     "text": [
      "File opened successfully!\n"
     ]
    }
   ],
   "source": [
    "import json\n",
    "from hazm import *\n",
    "\n",
    "file_path = 'C:/Users/Samin/Desktop/University/Term 7/Information Retrieval/Project/Data/IR_data_news_12k.json'\n",
    "\n",
    "try:\n",
    "    f = open(file_path, 'r', encoding='utf-8')\n",
    "    data_raw = json.load(f)\n",
    "    print(\"File opened successfully!\")\n",
    "    f.close()\n",
    "except IOError:\n",
    "    print(\"Error opening file.\")\n"
   ]
  },
  {
   "cell_type": "code",
   "execution_count": 2,
   "metadata": {},
   "outputs": [],
   "source": [
    "data = {}\n",
    "for docID, body in data_raw.items():\n",
    "        data[docID] = {}\n",
    "        data[docID]['title'] = body['title']\n",
    "        data[docID]['content'] = body['content']\n",
    "        data[docID]['url'] = body['url']\n",
    "\n",
    "# data = {\n",
    "#     'docID_1': {\n",
    "#         'title': 'Title of Document 1',\n",
    "#         'content': 'This is the content of Document 1.',\n",
    "#         'url': 'http://example.com/document1'\n",
    "#     },\n",
    "#     'docID_2': {\n",
    "#         'title': 'Title of Document 2',\n",
    "#         'content': 'This is the content of Document 2.',\n",
    "#         'url': 'http://example.com/document2'\n",
    "#     },\n",
    "#     # more documents...\n",
    "# }"
   ]
  },
  {
   "cell_type": "markdown",
   "metadata": {},
   "source": [
    "### Preprocessing"
   ]
  },
  {
   "cell_type": "code",
   "execution_count": 10,
   "metadata": {
    "vscode": {
     "languageId": "plaintext"
    }
   },
   "outputs": [
    {
     "name": "stdout",
     "output_type": "stream",
     "text": [
      "Normalization..\n",
      "input : این یک متن نمونه است \n",
      "output : این یک متن نمونه است\n"
     ]
    }
   ],
   "source": [
    "# four needed steps functions implementing..\n",
    "\n",
    "def to_normalize(input_text):\n",
    "    print('Normalization..')\n",
    "    output_text = Normalizer().normalize(input_text)\n",
    "    print(f'input : {input_text} ')\n",
    "    print(f'output : {output_text}')\n",
    "    return output_text\n",
    "# input_text = 'این یک متن نمونه است'\n",
    "# tokenized_text = to_normalize(input_text)"
   ]
  },
  {
   "cell_type": "code",
   "execution_count": 9,
   "metadata": {},
   "outputs": [
    {
     "name": "stdout",
     "output_type": "stream",
     "text": [
      "Tokenizing...\n",
      "input : این یک متن نمونه است \n",
      "output : ['این', 'یک', 'متن', 'نمونه', 'است']\n"
     ]
    }
   ],
   "source": [
    "def to_tokenize(input_text):\n",
    "    print('Tokenizing...')\n",
    "    output_text = word_tokenize(input_text)\n",
    "    print(f'input : {input_text} ')\n",
    "    print(f'output : {output_text}')\n",
    "    return output_text\n",
    "# input_text = 'این یک متن نمونه است'\n",
    "# tokenized_text = to_tokenize(input_text)"
   ]
  },
  {
   "cell_type": "code",
   "execution_count": 5,
   "metadata": {},
   "outputs": [
    {
     "name": "stdout",
     "output_type": "stream",
     "text": [
      "Removing Stop Words..\n",
      "input : ['این', 'یک', 'متن', 'نمونه', 'است'] \n",
      "output : ['متن', 'نمونه']\n"
     ]
    }
   ],
   "source": [
    "def to_remove_stop_words(input_text):\n",
    "    print('Removing Stop Words..')\n",
    "    stop_words = stopwords_list()\n",
    "    output_text = [word for word in input_text if not word in stop_words]\n",
    "    print(f'input : {input_text} ')\n",
    "    print(f'output : {output_text}')\n",
    "    return output_text\n",
    "\n",
    "# input_text = 'این یک متن نمونه است'\n",
    "# tokenized_text = to_tokenize(input_text)\n",
    "# filtered_text = to_remove_stop_words(tokenized_text)\n"
   ]
  },
  {
   "cell_type": "code",
   "execution_count": null,
   "metadata": {},
   "outputs": [],
   "source": [
    "def to_stem(input_text):\n",
    "    print('Stemming...')\n",
    "    stemmer = Stemmer()\n",
    "    output_text = [stemmer.stem(word) for word in word_tokenize(input_text)]\n",
    "    print(f'input : {input_text} ')\n",
    "    print(f'output : {output_text}')\n",
    "    return ' '.join(output_text)"
   ]
  },
  {
   "cell_type": "code",
   "execution_count": null,
   "metadata": {},
   "outputs": [],
   "source": []
  }
 ],
 "metadata": {
  "kernelspec": {
   "display_name": "Python 3 (ipykernel)",
   "language": "python",
   "name": "python3"
  },
  "language_info": {
   "codemirror_mode": {
    "name": "ipython",
    "version": 3
   },
   "file_extension": ".py",
   "mimetype": "text/x-python",
   "name": "python",
   "nbconvert_exporter": "python",
   "pygments_lexer": "ipython3",
   "version": "3.9.12"
  }
 },
 "nbformat": 4,
 "nbformat_minor": 2
}
